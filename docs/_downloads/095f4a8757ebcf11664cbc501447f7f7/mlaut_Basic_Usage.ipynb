{
 "cells": [
  {
   "cell_type": "code",
   "execution_count": 1,
   "metadata": {},
   "outputs": [],
   "source": [
    "from mlaut.data import Data\n",
    "import pydataset\n",
    "from mlaut.experiments import Orchestrator\n",
    "from mlaut.estimators.baseline_estimators import Baseline_Classifier\n",
    "from mlaut.estimators.bayes_estimators import Gaussian_Naive_Bayes\n",
    "from mlaut.estimators.decision_trees import Decision_Tree_Classifier\n",
    "from mlaut.resampling import Single_Split\n",
    "from sklearn.model_selection import train_test_split\n",
    "from mlaut.experiments.data import DatasetHDF5\n",
    "from mlaut.experiments.data import ResultHDF5\n",
    "\n",
    "from sklearn import preprocessing\n",
    "\n",
    "import os\n",
    "import shutil\n"
   ]
  },
  {
   "cell_type": "code",
   "execution_count": 2,
   "metadata": {},
   "outputs": [],
   "source": [
    "from mlaut.experiments.analysis import AnalyseResults\n",
    "from mlaut.experiments.scores import ScoreAccuracy\n"
   ]
  },
  {
   "cell_type": "code",
   "execution_count": 3,
   "metadata": {},
   "outputs": [],
   "source": [
    "os.mkdir('data')"
   ]
  },
  {
   "cell_type": "markdown",
   "metadata": {},
   "source": [
    "### Get the data and organise it"
   ]
  },
  {
   "cell_type": "code",
   "execution_count": 4,
   "metadata": {
    "scrolled": true
   },
   "outputs": [],
   "source": [
    "aids = pydataset.data('aids')\n",
    "uis = pydataset.data('uis')\n",
    "\n",
    "aids_meta = {\n",
    "'target': 'adult',\n",
    "'source':'pydataset',\n",
    "'dataset_name':'aids'\n",
    "}\n",
    "\n",
    "uis_meta = {\n",
    "    'target': 'IV3',\n",
    "    'source': 'pydataset',\n",
    "    'dataset_name': 'uis'\n",
    "}\n",
    "\n",
    "data = Data(hdf5_datasets_group='pydata')\n",
    "data.set_io(input_data='data/test_input.h5', output_data='data/test_output.h5')\n",
    "\n",
    "datasets = [aids, uis]\n",
    "metadata = [aids_meta, uis_meta]\n",
    "data.pandas_to_db(datasets=datasets, dts_metadata=metadata)"
   ]
  },
  {
   "cell_type": "markdown",
   "metadata": {},
   "source": [
    "### Orchestrate the experiments"
   ]
  },
  {
   "cell_type": "code",
   "execution_count": 5,
   "metadata": {},
   "outputs": [
    {
     "name": "stderr",
     "output_type": "stream",
     "text": [
      "INFO:root:fitting: {'estimator_family': ['Baseline'], 'tasks': ['Classification'], 'name': 'DummyClassifier'} on dataset: aids\n",
      "INFO:root:fitting: {'estimator_family': ['Decision_Tree'], 'tasks': ['Classification'], 'name': 'DecisionTreeClassifier'} on dataset: aids\n",
      "/media/viktor/Data/PhD/mlaut/py36/lib/python3.6/site-packages/scikit_learn-0.20.1-py3.6-linux-x86_64.egg/sklearn/model_selection/_search.py:841: DeprecationWarning: The default of the `iid` parameter will change from True to False in version 0.22 and will be removed in 0.24. This will change numeric results when test-set sizes are unequal.\n",
      "  DeprecationWarning)\n",
      "INFO:root:fitting: {'estimator_family': ['Naive_Bayes'], 'tasks': ['Classification'], 'name': 'GaussianNaiveBayes'} on dataset: aids\n",
      "INFO:root:fitting: {'estimator_family': ['Baseline'], 'tasks': ['Classification'], 'name': 'DummyClassifier'} on dataset: uis\n",
      "INFO:root:fitting: {'estimator_family': ['Decision_Tree'], 'tasks': ['Classification'], 'name': 'DecisionTreeClassifier'} on dataset: uis\n",
      "/media/viktor/Data/PhD/mlaut/py36/lib/python3.6/site-packages/scikit_learn-0.20.1-py3.6-linux-x86_64.egg/sklearn/model_selection/_search.py:841: DeprecationWarning: The default of the `iid` parameter will change from True to False in version 0.22 and will be removed in 0.24. This will change numeric results when test-set sizes are unequal.\n",
      "  DeprecationWarning)\n",
      "INFO:root:fitting: {'estimator_family': ['Naive_Bayes'], 'tasks': ['Classification'], 'name': 'GaussianNaiveBayes'} on dataset: uis\n"
     ]
    }
   ],
   "source": [
    "aids_data = DatasetHDF5(hdf5_path='data/test_input.h5',dataset_path='pydata/aids')\n",
    "uis_data = DatasetHDF5(hdf5_path='data/test_input.h5',dataset_path='pydata/uis')\n",
    "\n",
    "cv = Single_Split(cv=train_test_split)\n",
    "datasets = [aids_data,uis_data]\n",
    "strategies = [Baseline_Classifier(), Decision_Tree_Classifier(), Gaussian_Naive_Bayes()]\n",
    "\n",
    "\n",
    "result = ResultHDF5(hdf5_path='data/test_result.h5', \n",
    "                    predictions_save_path='predictions', \n",
    "                    trained_strategies_save_path='data/trained_estimators')\n",
    "\n",
    "orchestrator = Orchestrator(datasets=datasets, strategies=strategies, cv = cv, result=result)\n",
    "orchestrator.run()\n"
   ]
  },
  {
   "cell_type": "markdown",
   "metadata": {},
   "source": [
    "### Analyse the results of the experiments"
   ]
  },
  {
   "cell_type": "code",
   "execution_count": 6,
   "metadata": {},
   "outputs": [],
   "source": [
    "analyse = AnalyseResults(result)\n",
    "score_accuracy = ScoreAccuracy()\n",
    "loss_dict, loss_pd = analyse.prediction_errors(score_accuracy)\n"
   ]
  },
  {
   "cell_type": "markdown",
   "metadata": {},
   "source": [
    "#### t-test"
   ]
  },
  {
   "cell_type": "code",
   "execution_count": 7,
   "metadata": {},
   "outputs": [
    {
     "data": {
      "text/html": [
       "<div>\n",
       "<style scoped>\n",
       "    .dataframe tbody tr th:only-of-type {\n",
       "        vertical-align: middle;\n",
       "    }\n",
       "\n",
       "    .dataframe tbody tr th {\n",
       "        vertical-align: top;\n",
       "    }\n",
       "\n",
       "    .dataframe thead tr th {\n",
       "        text-align: left;\n",
       "    }\n",
       "</style>\n",
       "<table border=\"1\" class=\"dataframe\">\n",
       "  <thead>\n",
       "    <tr>\n",
       "      <th></th>\n",
       "      <th colspan=\"2\" halign=\"left\">DecisionTreeClassifier</th>\n",
       "      <th colspan=\"2\" halign=\"left\">DummyClassifier</th>\n",
       "      <th colspan=\"2\" halign=\"left\">GaussianNaiveBayes</th>\n",
       "    </tr>\n",
       "    <tr>\n",
       "      <th></th>\n",
       "      <th>t_stat</th>\n",
       "      <th>p_val</th>\n",
       "      <th>t_stat</th>\n",
       "      <th>p_val</th>\n",
       "      <th>t_stat</th>\n",
       "      <th>p_val</th>\n",
       "    </tr>\n",
       "  </thead>\n",
       "  <tbody>\n",
       "    <tr>\n",
       "      <th>DecisionTreeClassifier</th>\n",
       "      <td>0.000000</td>\n",
       "      <td>1.000000</td>\n",
       "      <td>1.682613</td>\n",
       "      <td>0.234479</td>\n",
       "      <td>-0.393935</td>\n",
       "      <td>0.731662</td>\n",
       "    </tr>\n",
       "    <tr>\n",
       "      <th>DummyClassifier</th>\n",
       "      <td>-1.682613</td>\n",
       "      <td>0.234479</td>\n",
       "      <td>0.000000</td>\n",
       "      <td>1.000000</td>\n",
       "      <td>-1.765798</td>\n",
       "      <td>0.219471</td>\n",
       "    </tr>\n",
       "    <tr>\n",
       "      <th>GaussianNaiveBayes</th>\n",
       "      <td>0.393935</td>\n",
       "      <td>0.731662</td>\n",
       "      <td>1.765798</td>\n",
       "      <td>0.219471</td>\n",
       "      <td>0.000000</td>\n",
       "      <td>1.000000</td>\n",
       "    </tr>\n",
       "  </tbody>\n",
       "</table>\n",
       "</div>"
      ],
      "text/plain": [
       "                       DecisionTreeClassifier           DummyClassifier  \\\n",
       "                                       t_stat     p_val          t_stat   \n",
       "DecisionTreeClassifier               0.000000  1.000000        1.682613   \n",
       "DummyClassifier                     -1.682613  0.234479        0.000000   \n",
       "GaussianNaiveBayes                   0.393935  0.731662        1.765798   \n",
       "\n",
       "                                 GaussianNaiveBayes            \n",
       "                           p_val             t_stat     p_val  \n",
       "DecisionTreeClassifier  0.234479          -0.393935  0.731662  \n",
       "DummyClassifier         1.000000          -1.765798  0.219471  \n",
       "GaussianNaiveBayes      0.219471           0.000000  1.000000  "
      ]
     },
     "execution_count": 7,
     "metadata": {},
     "output_type": "execute_result"
    }
   ],
   "source": [
    "t_test, t_test_df = analyse.t_test(loss_dict)\n",
    "t_test_df"
   ]
  },
  {
   "cell_type": "markdown",
   "metadata": {},
   "source": [
    "Other available statistical tests that can be perfomed include:\n",
    "\n",
    "* `mlaut.experiments.analysis.ranks()`\n",
    "* `mlaut.experiments.analysis.t_test()`\n",
    "* `mlaut.experiments.analysis.sign_test()`\n",
    "* `mlaut.experiments.analysis.ranksum_test()`\n",
    "* `mlaut.experiments.analysis.t_test_with_bonferroni_correction()`\n",
    "* `mlaut.experiments.analysis.wilcoxon_test()`\n",
    "* `mlaut.experiments.analysis.friedman_test()`\n",
    "* `mlaut.experiments.analysis.nemenyi()`\n"
   ]
  },
  {
   "cell_type": "code",
   "execution_count": 8,
   "metadata": {},
   "outputs": [],
   "source": [
    "shutil.rmtree('data')\n"
   ]
  }
 ],
 "metadata": {
  "kernelspec": {
   "display_name": "Python 3",
   "language": "python",
   "name": "python3"
  },
  "language_info": {
   "codemirror_mode": {
    "name": "ipython",
    "version": 3
   },
   "file_extension": ".py",
   "mimetype": "text/x-python",
   "name": "python",
   "nbconvert_exporter": "python",
   "pygments_lexer": "ipython3",
   "version": "3.6.8"
  }
 },
 "nbformat": 4,
 "nbformat_minor": 2
}
