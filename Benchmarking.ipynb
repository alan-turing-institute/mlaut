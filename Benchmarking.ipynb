{
 "cells": [
  {
   "cell_type": "code",
   "execution_count": 1,
   "metadata": {},
   "outputs": [
    {
     "ename": "IndentationError",
     "evalue": "unindent does not match any outer indentation level (strategies.py, line 256)",
     "output_type": "error",
     "traceback": [
      "Traceback \u001b[1;36m(most recent call last)\u001b[0m:\n",
      "  File \u001b[0;32m\"j:\\client solutions group\\viktor\\prog\\venv_mlaut\\lib\\site-packages\\IPython\\core\\interactiveshell.py\"\u001b[0m, line \u001b[0;32m3331\u001b[0m, in \u001b[0;35mrun_code\u001b[0m\n    exec(code_obj, self.user_global_ns, self.user_ns)\n",
      "\u001b[1;36m  File \u001b[1;32m\"<ipython-input-1-b00094fceef2>\"\u001b[1;36m, line \u001b[1;32m10\u001b[1;36m, in \u001b[1;35m<module>\u001b[1;36m\u001b[0m\n\u001b[1;33m    from mlaut.highlevel.strategies import CSCStrategy\u001b[0m\n",
      "\u001b[1;36m  File \u001b[1;32m\"J:\\Client Solutions Group\\Viktor\\Prog\\mlaut\\mlaut\\highlevel\\strategies.py\"\u001b[1;36m, line \u001b[1;32m256\u001b[0m\n\u001b[1;33m    def __init__(self, estimator, name=None, check_input=True):\u001b[0m\n\u001b[1;37m                                                               ^\u001b[0m\n\u001b[1;31mIndentationError\u001b[0m\u001b[1;31m:\u001b[0m unindent does not match any outer indentation level\n"
     ]
    }
   ],
   "source": [
    "import os\n",
    "from sklearn.metrics import accuracy_score\n",
    "from mlaut.benchmarking.data import RAMDataset, make_datasets\n",
    "from sklearn import datasets\n",
    "from mlaut.highlevel.tasks import TSCTask\n",
    "import pandas as pd\n",
    "import numpy as np\n",
    "\n",
    "from mlaut.benchmarking.results import HDDResults\n",
    "from mlaut.highlevel.strategies import CSCStrategy"
   ]
  },
  {
   "cell_type": "code",
   "execution_count": null,
   "metadata": {},
   "outputs": [],
   "source": [
    "iris = datasets.load_iris()\n",
    "wine = datasets.load_wine()"
   ]
  },
  {
   "cell_type": "code",
   "execution_count": null,
   "metadata": {},
   "outputs": [],
   "source": [
    "iris_pd = pd.DataFrame(iris.data, columns=iris.feature_names)\n",
    "iris_pd['target'] = iris.target\n",
    "\n",
    "wine_pd = pd.DataFrame(wine.data, columns=wine.feature_names)\n",
    "wine_pd['target']=wine.target\n",
    "\n",
    "datasets = ([RAMDataset(iris_pd, name='iris'),\n",
    "             RAMDataset(wine_pd, name='wine')])"
   ]
  },
  {
   "cell_type": "code",
   "execution_count": null,
   "metadata": {},
   "outputs": [],
   "source": [
    "wine_pd"
   ]
  },
  {
   "cell_type": "code",
   "execution_count": null,
   "metadata": {},
   "outputs": [],
   "source": [
    "tasks = [TSCTask(target=\"target\") for _ in range(len(datasets))]"
   ]
  },
  {
   "cell_type": "code",
   "execution_count": null,
   "metadata": {},
   "outputs": [],
   "source": [
    "results = HDDResults(path='results')"
   ]
  },
  {
   "cell_type": "code",
   "execution_count": null,
   "metadata": {},
   "outputs": [],
   "source": [
    "strategies = [\n",
    "    CSCStrategy(TimeSeriesForestClassifier(n_estimators=10), name=\"tsf10\"),\n",
    "    CSCStrategy(TimeSeriesForestClassifier(n_estimators=20), name=\"tsf20\")\n",
    "]"
   ]
  },
  {
   "cell_type": "code",
   "execution_count": null,
   "metadata": {},
   "outputs": [],
   "source": [
    "orchestrator = Orchestrator(datasets=datasets,\n",
    "                            tasks=tasks,  \n",
    "                            strategies=strategies, \n",
    "                            cv=PresplitFilesCV(), \n",
    "                            results=results)\n",
    " \n",
    "orchestrator.fit_predict(save_fitted_strategies=False, overwrite_predictions=True)"
   ]
  }
 ],
 "metadata": {
  "kernelspec": {
   "display_name": "Python 3",
   "language": "python",
   "name": "python3"
  },
  "language_info": {
   "codemirror_mode": {
    "name": "ipython",
    "version": 3
   },
   "file_extension": ".py",
   "mimetype": "text/x-python",
   "name": "python",
   "nbconvert_exporter": "python",
   "pygments_lexer": "ipython3",
   "version": "3.7.4"
  }
 },
 "nbformat": 4,
 "nbformat_minor": 4
}
